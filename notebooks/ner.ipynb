{
  "nbformat": 4,
  "nbformat_minor": 0,
  "metadata": {
    "colab": {
      "name": "character_rnn_for_ner.ipynb",
      "provenance": [],
      "collapsed_sections": [],
      "machine_shape": "hm"
    },
    "kernelspec": {
      "name": "python3",
      "display_name": "Python 3"
    },
    "accelerator": "GPU"
  },
  "cells": [
    {
      "cell_type": "code",
      "metadata": {
        "id": "9XNJRcmoIJQU",
        "colab": {
          "base_uri": "https://localhost:8080/"
        },
        "outputId": "9ecc7b4e-6368-4f65-eed8-9d93ffa9cac6"
      },
      "source": [
        "#http://alexminnaar.com/2019/08/22/ner-rnns-tensorflow.html\n",
        "try:\n",
        "  # %tensorflow_version only exists in Colab.\n",
        "  %tensorflow_version 2.x\n",
        "except Exception:\n",
        "  pass\n",
        "import tensorflow as tf\n",
        "\n",
        "import numpy as np\n",
        "import os\n",
        "import time\n",
        "\n",
        "print(tf.__version__)"
      ],
      "execution_count": 43,
      "outputs": [
        {
          "output_type": "stream",
          "text": [
            "2.5.0\n"
          ],
          "name": "stdout"
        }
      ]
    },
    {
      "cell_type": "code",
      "metadata": {
        "colab": {
          "base_uri": "https://localhost:8080/"
        },
        "id": "gTbafS33A2Z0",
        "outputId": "b18c6488-a1df-471b-d466-35fe9df3676c"
      },
      "source": [
        "!wget https://raw.githubusercontent.com/davidsbatista/NER-datasets/master/CONLL2003/test.txt"
      ],
      "execution_count": 9,
      "outputs": [
        {
          "output_type": "stream",
          "text": [
            "--2021-05-25 19:37:18--  https://raw.githubusercontent.com/davidsbatista/NER-datasets/master/CONLL2003/test.txt\n",
            "Resolving raw.githubusercontent.com (raw.githubusercontent.com)... 185.199.111.133, 185.199.110.133, 185.199.108.133, ...\n",
            "Connecting to raw.githubusercontent.com (raw.githubusercontent.com)|185.199.111.133|:443... connected.\n",
            "HTTP request sent, awaiting response... 200 OK\n",
            "Length: 748093 (731K) [text/plain]\n",
            "Saving to: ‘test.txt.1’\n",
            "\n",
            "\rtest.txt.1            0%[                    ]       0  --.-KB/s               \rtest.txt.1          100%[===================>] 730.56K  --.-KB/s    in 0.03s   \n",
            "\n",
            "2021-05-25 19:37:18 (25.9 MB/s) - ‘test.txt.1’ saved [748093/748093]\n",
            "\n"
          ],
          "name": "stdout"
        }
      ]
    },
    {
      "cell_type": "code",
      "metadata": {
        "colab": {
          "base_uri": "https://localhost:8080/"
        },
        "id": "V6hbTSZzBABg",
        "outputId": "1bf1205e-b097-41cd-9224-3f2b00c60efa"
      },
      "source": [
        "!wget https://raw.githubusercontent.com/davidsbatista/NER-datasets/master/CONLL2003/train.txt"
      ],
      "execution_count": 10,
      "outputs": [
        {
          "output_type": "stream",
          "text": [
            "--2021-05-25 19:37:56--  https://raw.githubusercontent.com/davidsbatista/NER-datasets/master/CONLL2003/train.txt\n",
            "Resolving raw.githubusercontent.com (raw.githubusercontent.com)... 185.199.108.133, 185.199.109.133, 185.199.110.133, ...\n",
            "Connecting to raw.githubusercontent.com (raw.githubusercontent.com)|185.199.108.133|:443... connected.\n",
            "HTTP request sent, awaiting response... 200 OK\n",
            "Length: 3283418 (3.1M) [text/plain]\n",
            "Saving to: ‘train.txt.1’\n",
            "\n",
            "train.txt.1         100%[===================>]   3.13M  --.-KB/s    in 0.06s   \n",
            "\n",
            "2021-05-25 19:37:57 (50.8 MB/s) - ‘train.txt.1’ saved [3283418/3283418]\n",
            "\n"
          ],
          "name": "stdout"
        }
      ]
    },
    {
      "cell_type": "code",
      "metadata": {
        "colab": {
          "base_uri": "https://localhost:8080/"
        },
        "id": "6qmbgySVBESF",
        "outputId": "e5e739d9-f186-458f-9220-5d089750d42d"
      },
      "source": [
        "!wget https://raw.githubusercontent.com/davidsbatista/NER-datasets/master/CONLL2003/valid.txt"
      ],
      "execution_count": 11,
      "outputs": [
        {
          "output_type": "stream",
          "text": [
            "--2021-05-25 19:38:27--  https://raw.githubusercontent.com/davidsbatista/NER-datasets/master/CONLL2003/valid.txt\n",
            "Resolving raw.githubusercontent.com (raw.githubusercontent.com)... 185.199.111.133, 185.199.110.133, 185.199.108.133, ...\n",
            "Connecting to raw.githubusercontent.com (raw.githubusercontent.com)|185.199.111.133|:443... connected.\n",
            "HTTP request sent, awaiting response... 200 OK\n",
            "Length: 827441 (808K) [text/plain]\n",
            "Saving to: ‘valid.txt.1’\n",
            "\n",
            "valid.txt.1         100%[===================>] 808.05K  --.-KB/s    in 0.06s   \n",
            "\n",
            "2021-05-25 19:38:27 (13.9 MB/s) - ‘valid.txt.1’ saved [827441/827441]\n",
            "\n"
          ],
          "name": "stdout"
        }
      ]
    },
    {
      "cell_type": "code",
      "metadata": {
        "id": "chLTt1VrIa2s"
      },
      "source": [
        "labels = set()\n",
        "\n",
        "def file2Examples(file_name):\n",
        "  '''\n",
        "  Read data files and return input/output pairs\n",
        "  '''\n",
        "  \n",
        "  examples=[]\n",
        "\n",
        "  with open(file_name,\"r\") as f:\n",
        "\n",
        "    next(f)\n",
        "    next(f)\n",
        "\n",
        "    example = [[],[]]\n",
        "\n",
        "    for line in f:\n",
        "\n",
        "      input_output_split= line.split()\n",
        "\n",
        "      if len(input_output_split)==4:\n",
        "        example[0].append(input_output_split[0])\n",
        "        example[1].append(input_output_split[-1])\n",
        "        labels.add(input_output_split[-1])\n",
        "\n",
        "      elif len(input_output_split)==0:\n",
        "        examples.append(example)\n",
        "        example=[[],[]]\n",
        "      else:\n",
        "        example=[[],[]]\n",
        "\n",
        "    f.close()\n",
        "    \n",
        "    return examples\n",
        "  \n",
        "# Extract examples from train, validation, and test files which can be found at \n",
        "# https://github.com/davidsbatista/NER-datasets/tree/master/CONLL2003\n",
        "train_examples = file2Examples(\"train.txt\")\n",
        "test_examples = file2Examples(\"test.txt\")\n",
        "valid_examples = file2Examples(\"valid.txt\")"
      ],
      "execution_count": 44,
      "outputs": []
    },
    {
      "cell_type": "code",
      "metadata": {
        "id": "I2JQ22IHFfyQ",
        "outputId": "6e68c7d6-e061-417d-d412-d9f416344fa4",
        "colab": {
          "base_uri": "https://localhost:8080/"
        }
      },
      "source": [
        "!head train.txt"
      ],
      "execution_count": 45,
      "outputs": [
        {
          "output_type": "stream",
          "text": [
            "-DOCSTART- -X- -X- O\n",
            "\n",
            "EU NNP B-NP B-ORG\n",
            "rejects VBZ B-VP O\n",
            "German JJ B-NP B-MISC\n",
            "call NN I-NP O\n",
            "to TO B-VP O\n",
            "boycott VB I-VP O\n",
            "British JJ B-NP B-MISC\n",
            "lamb NN I-NP O\n"
          ],
          "name": "stdout"
        }
      ]
    },
    {
      "cell_type": "code",
      "metadata": {
        "id": "Of8tTTetJFAO",
        "colab": {
          "base_uri": "https://localhost:8080/"
        },
        "outputId": "97dce70e-aa06-4440-faf8-61b55829f13a"
      },
      "source": [
        "    # create character vocab\n",
        "    all_text = \" \".join([\" \".join(x[0]) for x in train_examples+valid_examples+test_examples])\n",
        "    vocab = sorted(set(all_text))\n",
        "    \n",
        "    # create character/id and label/id mapping\n",
        "    char2idx = {u:i+1 for i, u in enumerate(vocab)}\n",
        "    idx2char = np.array(vocab)\n",
        "    label2idx = {u:i+1 for i, u in enumerate(labels)}\n",
        "    idx2label = np.array(labels)\n",
        "    \n",
        "    print(idx2label)\n",
        "    print(char2idx)"
      ],
      "execution_count": 46,
      "outputs": [
        {
          "output_type": "stream",
          "text": [
            "{'B-ORG', 'O', 'B-PER', 'I-MISC', 'B-LOC', 'I-ORG', 'I-LOC', 'B-MISC', 'I-PER'}\n",
            "{' ': 1, '!': 2, '\"': 3, '#': 4, '$': 5, '%': 6, '&': 7, \"'\": 8, '(': 9, ')': 10, '*': 11, '+': 12, ',': 13, '-': 14, '.': 15, '/': 16, '0': 17, '1': 18, '2': 19, '3': 20, '4': 21, '5': 22, '6': 23, '7': 24, '8': 25, '9': 26, ':': 27, ';': 28, '=': 29, '?': 30, '@': 31, 'A': 32, 'B': 33, 'C': 34, 'D': 35, 'E': 36, 'F': 37, 'G': 38, 'H': 39, 'I': 40, 'J': 41, 'K': 42, 'L': 43, 'M': 44, 'N': 45, 'O': 46, 'P': 47, 'Q': 48, 'R': 49, 'S': 50, 'T': 51, 'U': 52, 'V': 53, 'W': 54, 'X': 55, 'Y': 56, 'Z': 57, '[': 58, ']': 59, '`': 60, 'a': 61, 'b': 62, 'c': 63, 'd': 64, 'e': 65, 'f': 66, 'g': 67, 'h': 68, 'i': 69, 'j': 70, 'k': 71, 'l': 72, 'm': 73, 'n': 74, 'o': 75, 'p': 76, 'q': 77, 'r': 78, 's': 79, 't': 80, 'u': 81, 'v': 82, 'w': 83, 'x': 84, 'y': 85, 'z': 86}\n"
          ],
          "name": "stdout"
        }
      ]
    },
    {
      "cell_type": "code",
      "metadata": {
        "id": "RHtLQrq4JhJe",
        "colab": {
          "base_uri": "https://localhost:8080/"
        },
        "outputId": "beab14d6-f536-4317-f90b-1673f35dada7"
      },
      "source": [
        "    def split_char_labels(eg):\n",
        "      '''\n",
        "      For a given input/output example, break tokens into characters while keeping \n",
        "      the same label.\n",
        "      '''\n",
        "\n",
        "      tokens = eg[0]\n",
        "      labels=eg[1]\n",
        "\n",
        "      input_chars = []\n",
        "      output_char_labels = []\n",
        "\n",
        "      for token,label in zip(tokens,labels):\n",
        "\n",
        "        input_chars.extend([char for char in token])\n",
        "        input_chars.extend(' ')\n",
        "        output_char_labels.extend([label]*len(token))\n",
        "        output_char_labels.extend('O')\n",
        "\n",
        "      return [[char2idx[x] for x in input_chars[:-1]],np.array([label2idx[x] for x in output_char_labels[:-1]])]\n",
        "   \n",
        "    train_formatted = [split_char_labels(eg) for eg in train_examples]\n",
        "    test_formatted = [split_char_labels(eg) for eg in test_examples]\n",
        "    valid_formatted = [split_char_labels(eg) for eg in valid_examples]\n",
        "    \n",
        "    print(len(train_formatted))\n",
        "    print(len(test_formatted))\n",
        "    print(len(valid_formatted))"
      ],
      "execution_count": 47,
      "outputs": [
        {
          "output_type": "stream",
          "text": [
            "14985\n",
            "3682\n",
            "3464\n"
          ],
          "name": "stdout"
        }
      ]
    },
    {
      "cell_type": "code",
      "metadata": {
        "id": "LDRSAIObKBL8",
        "colab": {
          "base_uri": "https://localhost:8080/"
        },
        "outputId": "421a8511-8617-4857-a2e4-ae0c125541c9"
      },
      "source": [
        "    # training generator\n",
        "    def gen_train_series():\n",
        "\n",
        "        for eg in train_formatted:\n",
        "          yield eg[0],eg[1]\n",
        "    \n",
        "    # validation generator\n",
        "    def gen_valid_series():\n",
        "    \n",
        "       for eg in valid_formatted:\n",
        "          yield eg[0],eg[1]\n",
        "    \n",
        "    # test generator\n",
        "    def gen_test_series():\n",
        "\n",
        "      for eg in test_formatted:\n",
        "          yield eg[0],eg[1]\n",
        "      \n",
        "    # create Dataset objects for train, test and validation sets  \n",
        "    series = tf.data.Dataset.from_generator(gen_train_series,output_types=(tf.int32, tf.int32),output_shapes = ((None, None)))\n",
        "    series_valid = tf.data.Dataset.from_generator(gen_valid_series,output_types=(tf.int32, tf.int32),output_shapes = ((None, None)))\n",
        "    series_test = tf.data.Dataset.from_generator(gen_test_series,output_types=(tf.int32, tf.int32),output_shapes = ((None, None)))\n",
        "\n",
        "    BATCH_SIZE = 128\n",
        "    BUFFER_SIZE=1000\n",
        "    \n",
        "    # create padded batch series objects for train, test and validation sets\n",
        "    ds_series_batch = series.shuffle(BUFFER_SIZE).padded_batch(BATCH_SIZE, padded_shapes=([None], [None]), drop_remainder=True)\n",
        "    ds_series_batch_valid = series_valid.padded_batch(BATCH_SIZE, padded_shapes=([None], [None]), drop_remainder=True)\n",
        "    ds_series_batch_test = series_test.padded_batch(BATCH_SIZE, padded_shapes=([None], [None]), drop_remainder=True)\n",
        "    \n",
        "    # print example batches\n",
        "    for input_example_batch, target_example_batch in ds_series_batch_valid.take(1):\n",
        "      print(input_example_batch)\n",
        "      print(target_example_batch)\n"
      ],
      "execution_count": 48,
      "outputs": [
        {
          "output_type": "stream",
          "text": [
            "tf.Tensor(\n",
            "[[34 49 40 ...  0  0  0]\n",
            " [43 46 45 ...  0  0  0]\n",
            " [54 65 79 ...  0  0  0]\n",
            " ...\n",
            " [ 3  1 36 ...  0  0  0]\n",
            " [40 66  1 ...  0  0  0]\n",
            " [35 81 78 ...  0  0  0]], shape=(128, 228), dtype=int32)\n",
            "tf.Tensor(\n",
            "[[2 2 2 ... 0 0 0]\n",
            " [5 5 5 ... 0 0 0]\n",
            " [8 8 8 ... 0 0 0]\n",
            " ...\n",
            " [2 2 2 ... 0 0 0]\n",
            " [2 2 2 ... 0 0 0]\n",
            " [3 3 3 ... 0 0 0]], shape=(128, 228), dtype=int32)\n"
          ],
          "name": "stdout"
        }
      ]
    },
    {
      "cell_type": "code",
      "metadata": {
        "id": "4msLXztSJtqo",
        "colab": {
          "base_uri": "https://localhost:8080/"
        },
        "outputId": "4f89830b-83b9-4e12-b33f-e484c0c7a910"
      },
      "source": [
        "  vocab_size = len(vocab)+1\n",
        "\n",
        "  # The embedding dimension\n",
        "  embedding_dim = 256\n",
        "\n",
        "  # Number of RNN units\n",
        "  rnn_units = 1024\n",
        "\n",
        "  label_size = len(labels)  \n",
        "  \n",
        "  # build LSTM model\n",
        "  def build_model(vocab_size,label_size, embedding_dim, rnn_units, batch_size):\n",
        "        model = tf.keras.Sequential([\n",
        "            tf.keras.layers.Embedding(vocab_size, embedding_dim,\n",
        "                              batch_input_shape=[batch_size, None],mask_zero=True),\n",
        "            tf.keras.layers.LSTM(rnn_units,\n",
        "                        return_sequences=True,\n",
        "                        stateful=True,\n",
        "                        recurrent_initializer='glorot_uniform'),\n",
        "            tf.keras.layers.Dense(label_size)\n",
        "            ])\n",
        "        return model\n",
        "\n",
        "  model = build_model(\n",
        "        vocab_size = len(vocab)+1,\n",
        "        label_size=len(labels)+1,\n",
        "        embedding_dim=embedding_dim,\n",
        "        rnn_units=rnn_units,\n",
        "        batch_size=BATCH_SIZE)\n",
        "\n",
        "  model.summary()"
      ],
      "execution_count": 49,
      "outputs": [
        {
          "output_type": "stream",
          "text": [
            "Model: \"sequential_2\"\n",
            "_________________________________________________________________\n",
            "Layer (type)                 Output Shape              Param #   \n",
            "=================================================================\n",
            "embedding_2 (Embedding)      (128, None, 256)          22272     \n",
            "_________________________________________________________________\n",
            "lstm_2 (LSTM)                (128, None, 1024)         5246976   \n",
            "_________________________________________________________________\n",
            "dense_2 (Dense)              (128, None, 10)           10250     \n",
            "=================================================================\n",
            "Total params: 5,279,498\n",
            "Trainable params: 5,279,498\n",
            "Non-trainable params: 0\n",
            "_________________________________________________________________\n"
          ],
          "name": "stdout"
        }
      ]
    },
    {
      "cell_type": "code",
      "metadata": {
        "id": "S1vnxVFcK1Hk"
      },
      "source": [
        "    import os\n",
        "\n",
        "    # define loss function\n",
        "    def loss(labels, logits):\n",
        "        return tf.keras.losses.sparse_categorical_crossentropy(labels, logits, from_logits=True)\n",
        "\n",
        "    model.compile(optimizer='adam', loss=loss,metrics=[tf.keras.metrics.SparseCategoricalAccuracy()])\n",
        "\n",
        "    # Directory where the checkpoints will be saved\n",
        "    checkpoint_dir = './training_checkpoints'\n",
        "    # Name of the checkpoint files\n",
        "    checkpoint_prefix = os.path.join(checkpoint_dir, \"ckpt_{epoch}\")\n",
        "\n",
        "    checkpoint_callback=tf.keras.callbacks.ModelCheckpoint(\n",
        "        filepath=checkpoint_prefix,\n",
        "        save_weights_only=True)"
      ],
      "execution_count": 50,
      "outputs": []
    },
    {
      "cell_type": "code",
      "metadata": {
        "id": "2CQ2I9UDK9ng",
        "colab": {
          "base_uri": "https://localhost:8080/"
        },
        "outputId": "ef0eb897-0778-491c-8eda-031a47dcc2cc"
      },
      "source": [
        "    EPOCHS=3\n",
        "  \n",
        "    history = model.fit(ds_series_batch, epochs=EPOCHS, validation_data=ds_series_batch_valid,callbacks=[checkpoint_callback])"
      ],
      "execution_count": 51,
      "outputs": [
        {
          "output_type": "stream",
          "text": [
            "Epoch 1/3\n",
            "117/117 [==============================] - 24s 182ms/step - loss: 0.2143 - sparse_categorical_accuracy: 0.7984 - val_loss: 0.1564 - val_sparse_categorical_accuracy: 0.8105\n",
            "Epoch 2/3\n",
            "117/117 [==============================] - 20s 173ms/step - loss: 0.1184 - sparse_categorical_accuracy: 0.8406 - val_loss: 0.1181 - val_sparse_categorical_accuracy: 0.8426\n",
            "Epoch 3/3\n",
            "117/117 [==============================] - 20s 174ms/step - loss: 0.1017 - sparse_categorical_accuracy: 0.8628 - val_loss: 0.0997 - val_sparse_categorical_accuracy: 0.8744\n"
          ],
          "name": "stdout"
        }
      ]
    }
  ]
}